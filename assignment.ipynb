{
 "cells": [
  {
   "cell_type": "code",
   "execution_count": 1,
   "metadata": {},
   "outputs": [
    {
     "name": "stdout",
     "output_type": "stream",
     "text": [
      "Board members who are not employees: {'Torben', 'Hans', 'Søren', 'Benny', 'Troels', 'Mille'}\n",
      "Board members who are also employees: {'Tine'}\n",
      "Number of management members in the board: 1\n",
      "All management members are also employees.\n",
      "Not all management members are in the board.\n",
      "Employees who are also in the management and board: {'Tine'}\n",
      "Employees who are neither in the board nor management: {'Niels', 'Ole', 'Lars', 'James', 'Stine', 'Claus', 'Allan', 'Anna', 'Bent'}\n"
     ]
    }
   ],
   "source": [
    "# Task 1\n",
    "board_of_directors = {'Benny', 'Hans', 'Tine', 'Mille', 'Torben', 'Troels', 'Søren'}\n",
    "management = {'Tine', 'Trunte', 'Rane'}\n",
    "employees = {'Niels', 'Anna', 'Tine', 'Ole', 'Trunte', 'Bent', 'Rane', 'Allan', 'Stine', 'Claus', 'James', 'Lars'}\n",
    "\n",
    "# who in the board of directors is not an employee?\n",
    "not_employee_in_board = board_of_directors - employees\n",
    "print(\"Board members who are not employees:\", not_employee_in_board)\n",
    "\n",
    "# who in the board of directors is also an employee?\n",
    "board_and_employee = board_of_directors & employees\n",
    "print(\"Board members who are also employees:\", board_and_employee)\n",
    "\n",
    "# how many of the management is also a member of the board?\n",
    "management_and_board = management & board_of_directors\n",
    "print(\"Number of management members in the board:\", len(management_and_board))\n",
    "\n",
    "# All members of the management also an employee?\n",
    "management_and_employee = management & employees\n",
    "if management_and_employee == management:\n",
    "    print(\"All management members are also employees.\")\n",
    "else:\n",
    "    print(\"Not all management members are employees.\")\n",
    "\n",
    "# All members of the management also in the board?\n",
    "if management_and_board == management:\n",
    "    print(\"All management members are also in the board.\")\n",
    "else:\n",
    "    print(\"Not all management members are in the board.\")\n",
    "\n",
    "# Who is an employee, a member of the management, and a member of the board?\n",
    "common_member = board_of_directors & management & employees\n",
    "print(\"Employees who are also in the management and board:\", common_member)\n",
    "\n",
    "# Who of the employee is neither a member of the board or management?\n",
    "not_in_board_or_management = employees - (board_of_directors | management)\n",
    "print(\"Employees who are neither in the board nor management:\", not_in_board_or_management)\n"
   ]
  },
  {
   "cell_type": "code",
   "execution_count": 2,
   "metadata": {},
   "outputs": [
    {
     "name": "stdout",
     "output_type": "stream",
     "text": [
      "Union using set methods: {'o', 'u', 'a', 'y', 'å', 'æ', 'ø', 'e', 'i'}\n",
      "Union using set operators: {'o', 'u', 'a', 'y', 'å', 'æ', 'ø', 'e', 'i'}\n",
      "Symmetric Difference using set methods: {'å', 'æ', 'ø'}\n",
      "Symmetric Difference using set operators: {'å', 'æ', 'ø'}\n",
      "Difference using set methods: set()\n",
      "Difference using set operators: set()\n",
      "Are the sets disjoint using set methods: False\n",
      "Are the sets disjoint using set operators: False\n"
     ]
    }
   ],
   "source": [
    "# Task 2\n",
    "data = {'a': 'Alpha', 'b': 'Beta', 'g': 'Gamma'}\n",
    "set1 = {'a', 'e', 'i', 'o', 'u', 'y'}\n",
    "set2 = {'a', 'e', 'i', 'o', 'u', 'y', 'æ', 'ø', 'å'}\n",
    "\n",
    "# Using set methods\n",
    "union_set_method = set1.union(set2)\n",
    "symmetric_difference_set_method = set1.symmetric_difference(set2)\n",
    "difference_set_method = set1.difference(set2)\n",
    "disjoint_set_method = set1.isdisjoint(set2)\n",
    "\n",
    "# Using set operators\n",
    "union_set_operator = set1 | set2\n",
    "symmetric_difference_set_operator = set1 ^ set2\n",
    "difference_set_operator = set1 - set2\n",
    "disjoint_set_operator = not set1 & set2\n",
    "\n",
    "print(\"Union using set methods:\", union_set_method)\n",
    "print(\"Union using set operators:\", union_set_operator)\n",
    "\n",
    "print(\"Symmetric Difference using set methods:\", symmetric_difference_set_method)\n",
    "print(\"Symmetric Difference using set operators:\", symmetric_difference_set_operator)\n",
    "\n",
    "print(\"Difference using set methods:\", difference_set_method)\n",
    "print(\"Difference using set operators:\", difference_set_operator)\n",
    "\n",
    "print(\"Are the sets disjoint using set methods:\", disjoint_set_method)\n",
    "print(\"Are the sets disjoint using set operators:\", disjoint_set_operator)\n"
   ]
  },
  {
   "cell_type": "code",
   "execution_count": 3,
   "metadata": {},
   "outputs": [
    {
     "name": "stdout",
     "output_type": "stream",
     "text": [
      "Decoded date: (1985, 3, 8)\n"
     ]
    }
   ],
   "source": [
    "# Task 3\n",
    "# Create a dictionary for month name to number mapping\n",
    "month_dict = {\n",
    "    'JAN': 1, 'FEB': 2, 'MAR': 3, 'APR': 4, 'MAY': 5, 'JUN': 6,\n",
    "    'JUL': 7, 'AUG': 8, 'SEP': 9, 'OCT': 10, 'NOV': 11, 'DEC': 12\n",
    "}\n",
    "\n",
    "# Create a function to decode the date\n",
    "def decode_date(date_str):\n",
    "    day, month, year = date_str.split('-')\n",
    "    month = month.upper()\n",
    "    \n",
    "    # Correct the year (assume 19YY for years below 50 and 20YY for years above)\n",
    "    if int(year) < 50:\n",
    "        year = '20' + year\n",
    "    else:\n",
    "        year = '19' + year\n",
    "    \n",
    "    return (int(year), month_dict[month], int(day))\n",
    "\n",
    "date_str = '8-MAR-85'\n",
    "decoded_date = decode_date(date_str)\n",
    "print(\"Decoded date:\", decoded_date)\n"
   ]
  },
  {
   "cell_type": "code",
   "execution_count": 4,
   "metadata": {},
   "outputs": [
    {
     "name": "stdout",
     "output_type": "stream",
     "text": [
      "Friends who have not RSVP'd: {'David', 'Charlie', 'Alice'}\n",
      "Friends who were not invited but RSVP'd: {'Frank', 'Grace'}\n",
      "Friends who are common in both lists: {'Bob', 'Eve'}\n"
     ]
    }
   ],
   "source": [
    "# Task 4\n",
    "# Define sets for invited and RSVP'd friends\n",
    "invited_friends = {'Alice', 'Bob', 'Charlie', 'David', 'Eve'}\n",
    "rsvp_friends = {'Bob', 'Eve', 'Frank', 'Grace'}\n",
    "\n",
    "# Friends who have not RSVP'd\n",
    "not_rsvped = invited_friends - rsvp_friends\n",
    "print(\"Friends who have not RSVP'd:\", not_rsvped)\n",
    "\n",
    "# Friends who were not invited but RSVP'd\n",
    "not_invited_but_rsvped = rsvp_friends - invited_friends\n",
    "print(\"Friends who were not invited but RSVP'd:\", not_invited_but_rsvped)\n",
    "\n",
    "# Friends who are common in both lists (invited and RSVP'd)\n",
    "common_friends = invited_friends & rsvp_friends\n",
    "print(\"Friends who are common in both lists:\", common_friends)\n"
   ]
  },
  {
   "cell_type": "code",
   "execution_count": 5,
   "metadata": {},
   "outputs": [
    {
     "name": "stdout",
     "output_type": "stream",
     "text": [
      "Students with grades higher than 85: ['Alice', 'Charlie', 'David', 'Eve']\n"
     ]
    }
   ],
   "source": [
    "# Task 5\n",
    "# Dictionary containing students and their grades\n",
    "student_grades = {\n",
    "    'Alice': 90,\n",
    "    'Bob': 78,\n",
    "    'Charlie': 95,\n",
    "    'David': 88,\n",
    "    'Eve': 92,\n",
    "    'Frank': 75\n",
    "}\n",
    "\n",
    "# Update grades for specific students\n",
    "student_grades['Bob'] = 80\n",
    "student_grades['Eve'] = 96\n",
    "\n",
    "# Print names of students with grades higher than 85\n",
    "high_grades_students = [name for name, grade in student_grades.items() if grade > 85]\n",
    "print(\"Students with grades higher than 85:\", high_grades_students)\n"
   ]
  }
 ],
 "metadata": {
  "kernelspec": {
   "display_name": ".venv",
   "language": "python",
   "name": "python3"
  },
  "language_info": {
   "codemirror_mode": {
    "name": "ipython",
    "version": 3
   },
   "file_extension": ".py",
   "mimetype": "text/x-python",
   "name": "python",
   "nbconvert_exporter": "python",
   "pygments_lexer": "ipython3",
   "version": "3.11.5"
  },
  "orig_nbformat": 4
 },
 "nbformat": 4,
 "nbformat_minor": 2
}
